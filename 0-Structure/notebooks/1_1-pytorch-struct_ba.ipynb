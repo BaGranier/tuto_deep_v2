{
 "cells": [
  {
   "cell_type": "markdown",
   "metadata": {
    "id": "_TE2ItlsI956"
   },
   "source": [
    "# Séance 1 :  Deep Learning - Introduction à Pytorch \n",
    "\n",
    "Les notebooks sont très largement inspirés des cours de **N. Baskiotis et B. Piwowarski**. Ils peuvent être complétés efficacement par les tutoriels *officiels* présents sur le site de pytorch:\n",
    "https://pytorch.org/tutorials/\n",
    "\n",
    "Au niveau de la configuration, toutes les installations doivent fonctionner sur Linux et Mac. Pour windows, ça peut marcher avec Anaconda à jour... Mais il est difficile de récupérer les problèmes.\n",
    "\n",
    "* Aide à la configuration des machines: [lien](https://dac.lip6.fr/master/environnement-deep/)\n",
    "* Alternative 1 à Windows: installer Ubuntu sous Windows:  [Ubuntu WSL](https://ubuntu.com/wsl)\n",
    "* Alternative 2: travailler sur Google Colab (il faut un compte gmail + prendre le temps de comprendre comment accéder à des fichers) [Colab](https://colab.research.google.com)"
   ]
  },
  {
   "cell_type": "markdown",
   "metadata": {
    "id": "TAER7frwJu9L"
   },
   "source": [
    "# A. Préambule & syntaxe\n",
    "\n",
    "Les lignes suivantes permettent d'importer pytorch et vérifier si un GPU est disponible.\n",
    "\n",
    "**NOTE:** pour cette séance, ce n'est pas important => Début standard pour la suite"
   ]
  },
  {
   "cell_type": "code",
   "execution_count": 1,
   "metadata": {
    "id": "3Y9YOOHHhJKY"
   },
   "outputs": [
    {
     "name": "stdout",
     "output_type": "stream",
     "text": [
      "La version de torch est :  2.2.2+cpu\n",
      "Le calcul GPU est disponible ?  False\n",
      "Le calcul GPU est disponible ?  False\n"
     ]
    }
   ],
   "source": [
    "import torch\n",
    "print(\"La version de torch est : \",torch.__version__)\n",
    "print(\"Le calcul GPU est disponible ? \", torch.cuda.is_available())\n",
    "# pour les possesseurs de mac M1 avec la dernière version de pytorch:\n",
    "print(\"Le calcul GPU est disponible ? \", torch.backends.mps.is_available())\n",
    "# NOTE: pour cette séance, ce n'est pas important => Début standard pour la suite\n",
    "\n",
    "import matplotlib.pyplot as plt\n",
    "import numpy as np\n",
    "import sklearn"
   ]
  },
  {
   "cell_type": "markdown",
   "metadata": {
    "id": "u2LqFo3wzwYP"
   },
   "source": [
    "## Syntaxe\n",
    "\n",
    "Le principal objet manipulé sous Pytorch est **torch.Tensor** qui correspond à un tenseur mathématique (généralisation de la notion de matrice en $n$-dimensions), très proche dans l'utilisation de **numpy.array**.   Cet objet est optimisé pour les calculs sur GPU ce qui implique quelques contraintes plus importantes que sous **numpy**. En particulier :\n",
    "* le type du tenseur manipulé est très important et les conversions ne sont pas automatique (**FloatTensor** de type **torch.float**, **DoubleTensor** de type **torch.double**,  **ByteTensor** de type **torch.byte**, **IntTensor** de type **torch.int**, **LongTensor** de type **torch.long**). Pour un tenseur **t** La conversion se fait très simplement en utilisant les fonctions : **t.double()**, **t.float()**, **t.long()** ...\n",
    "* la plupart des opérations ont une version *inplace*, c'est-à-dire qui modifie le tenseur plutôt que de renvoyer un nouveau tenseur; elles sont suffixées par **_** (**add_** par exemple).\n",
    "\n",
    "Voici ci-dessous quelques exemples d'opérations usuelles, n'hésitez pas à vous référez à la [documentation officielle](https://pytorch.org/docs/stable/tensors.html) pour la liste exhaustive des opérations.\n"
   ]
  },
  {
   "cell_type": "code",
   "execution_count": 2,
   "metadata": {
    "cellView": "code",
    "id": "VZxNfy1b1u43"
   },
   "outputs": [
    {
     "name": "stdout",
     "output_type": "stream",
     "text": [
      "tensor([[1., 2., 3.],\n",
      "        [2., 3., 4.]])\n",
      "tensor([[[1., 1., 1., 1.],\n",
      "         [1., 1., 1., 1.],\n",
      "         [1., 1., 1., 1.]],\n",
      "\n",
      "        [[1., 1., 1., 1.],\n",
      "         [1., 1., 1., 1.],\n",
      "         [1., 1., 1., 1.]]])\n",
      "tensor([[0., 0., 0.],\n",
      "        [0., 0., 0.]])\n"
     ]
    }
   ],
   "source": [
    "# Création de tenseurs et caractéristiques\n",
    "## Créer un tenseur à partir d'une liste\n",
    "print(torch.tensor([[1.,2.,3.],[2.,3,4.]])) \n",
    "## Créer un tenseur  tenseur rempli de 1 de taille 2x3x4\n",
    "print(torch.ones(2,3,4)) \n",
    "## tenseur de zéros de taille 2x3 de type float\n",
    "print(torch.zeros(2,3,dtype=torch.float))  \n"
   ]
  },
  {
   "cell_type": "code",
   "execution_count": 3,
   "metadata": {},
   "outputs": [
    {
     "name": "stdout",
     "output_type": "stream",
     "text": [
      "tensor([[1., 1., 1.],\n",
      "        [1., 1., 1.]]) => [[1.0, 1.0, 1.0], [1.0, 1.0, 1.0]]\n",
      "tensor(6.) => 6.0\n"
     ]
    }
   ],
   "source": [
    "# L'opération inverse (tenseur => Structure python)\n",
    "a = torch.ones(2,3)\n",
    "print(a,\"=>\",a.tolist())\n",
    "b=a.sum()\n",
    "print(b,\"=>\",b.item())\n"
   ]
  },
  {
   "cell_type": "code",
   "execution_count": 4,
   "metadata": {},
   "outputs": [
    {
     "name": "stdout",
     "output_type": "stream",
     "text": [
      "tensor([[11., 10., 12.],\n",
      "        [10., 10., 11.]])\n",
      "tensor([[0.9564, 1.0154, 1.0468],\n",
      "        [1.0945, 1.0050, 0.9833]])\n"
     ]
    }
   ],
   "source": [
    "\n",
    "## tirage uniforme entier entre 10 et 15, \n",
    "## remarquez l'utilisation du _ dans random pour l'opération inplace\n",
    "print(torch.zeros(2,3).random_(10,15)) \n",
    "## tirage suivant la loi normale\n",
    "a=torch.zeros(2,3).normal_(1,0.1)\n",
    "print(a)\n",
    "## equivalent à zeros(3,4).normal_\n",
    "b = torch.randn(3,4) \n",
    "## Création d'un vecteur\n",
    "c = torch.randn(3)"
   ]
  },
  {
   "cell_type": "code",
   "execution_count": 5,
   "metadata": {},
   "outputs": [
    {
     "name": "stdout",
     "output_type": "stream",
     "text": [
      "tensor([[0.9564, 1.0154, 1.0468, 0.9564, 1.0154, 1.0468],\n",
      "        [1.0945, 1.0050, 0.9833, 1.0945, 1.0050, 0.9833]])\n",
      "3 torch.Size([3, 4]) torch.Size([3])\n",
      "tensor([[0, 1, 1],\n",
      "        [1, 1, 0]], dtype=torch.int32) torch.IntTensor\n"
     ]
    }
   ],
   "source": [
    "\n",
    "## concatenation de tenseurs\n",
    "print(torch.cat((a,a),1))\n",
    "## Taille des tenseurs/vecteurs shape => size\n",
    "print(a.size(1),b.shape,c.size())\n",
    "## Conversion de type\n",
    "print(a.int(),a.int().type())"
   ]
  },
  {
   "cell_type": "code",
   "execution_count": 6,
   "metadata": {},
   "outputs": [
    {
     "name": "stdout",
     "output_type": "stream",
     "text": [
      "tensor(1.4837)\n",
      "prod mat:  tensor([[ 0.5836, -1.8755, -2.5789, -1.2666],\n",
      "        [ 0.7607, -2.0588, -2.6397, -1.2314]]) tensor([[ 0.5836, -1.8755, -2.5789, -1.2666],\n",
      "        [ 0.7607, -2.0588, -2.6397, -1.2314]])\n",
      "transpose : tensor([[0.9564, 1.0945],\n",
      "        [1.0154, 1.0050],\n",
      "        [1.0468, 0.9833]]) tensor([[0.9564, 1.0945],\n",
      "        [1.0154, 1.0050],\n",
      "        [1.0468, 0.9833]])\n",
      "argmax :  tensor([2, 0])\n",
      "sum:  tensor([-1.6782, -0.2751, -3.1077]) tensor(-5.0610)\n",
      "mean:  tensor([-0.4195, -0.0688, -0.7769]) tensor(-0.4217)\n"
     ]
    }
   ],
   "source": [
    "\n",
    "# Opérations élémentaires sur les tenseurs \n",
    "## produit scalaire (et contrairement à numpy, que produit scalaire)\n",
    "print(c.dot(c))\n",
    "## produit matriciel : utilisation de @ ou de la fonction mm\n",
    "print(\"prod mat: \", a.mm(b), a @ b)\n",
    "## transposé\n",
    "print(\"transpose :\", a.t(),a.T)\n",
    "## index du maximum selon une dimension\n",
    "print(\"argmax : \",a.argmax(dim=1))\n",
    "## somme selon une dimension/de tous les éléments\n",
    "print(\"sum: \", b.sum(1), b.sum()) \n",
    "## moyenne selon  une dimension/sur tous les éléments\n",
    "print(\"mean: \", b.mean(1), b.mean())\n"
   ]
  },
  {
   "cell_type": "code",
   "execution_count": 7,
   "metadata": {},
   "outputs": [
    {
     "ename": "TypeError",
     "evalue": "unsupported operand type(s) for @: 'Tensor' and 'list'",
     "output_type": "error",
     "traceback": [
      "\u001b[31m---------------------------------------------------------------------------\u001b[39m",
      "\u001b[31mTypeError\u001b[39m                                 Traceback (most recent call last)",
      "\u001b[36mCell\u001b[39m\u001b[36m \u001b[39m\u001b[32mIn[7]\u001b[39m\u001b[32m, line 4\u001b[39m\n\u001b[32m      1\u001b[39m \u001b[38;5;66;03m## ATTENTION: la spécificité et les capacités des tenseurs empêchent les conversions à la volée\u001b[39;00m\n\u001b[32m      2\u001b[39m \u001b[38;5;66;03m# ce qui marchait en numpy ne marche plus en torch\u001b[39;00m\n\u001b[32m----> \u001b[39m\u001b[32m4\u001b[39m \u001b[38;5;28mprint\u001b[39m(\u001b[43ma\u001b[49m\u001b[43m@\u001b[49m\u001b[43m[\u001b[49m\u001b[43m[\u001b[49m\u001b[32;43m1\u001b[39;49m\u001b[43m]\u001b[49m\u001b[43m,\u001b[49m\u001b[43m \u001b[49m\u001b[43m[\u001b[49m\u001b[32;43m1\u001b[39;49m\u001b[43m]\u001b[49m\u001b[43m,\u001b[49m\u001b[43m \u001b[49m\u001b[43m[\u001b[49m\u001b[32;43m1\u001b[39;49m\u001b[43m]\u001b[49m\u001b[43m]\u001b[49m)    \u001b[38;5;66;03m# ERREUR de type (même résultat avec n'importe quelle opération)\u001b[39;00m\n\u001b[32m      5\u001b[39m \u001b[38;5;28mprint\u001b[39m(a*\u001b[32m2\u001b[39m)                  \u001b[38;5;66;03m# OK pour un scalaire\u001b[39;00m\n\u001b[32m      6\u001b[39m \u001b[38;5;28mprint\u001b[39m(a*[\u001b[32m2.\u001b[39m,\u001b[32m2.\u001b[39m,\u001b[32m2.\u001b[39m])         \u001b[38;5;66;03m# ERREUR de type\u001b[39;00m\n",
      "\u001b[31mTypeError\u001b[39m: unsupported operand type(s) for @: 'Tensor' and 'list'"
     ]
    }
   ],
   "source": [
    "## ATTENTION: la spécificité et les capacités des tenseurs empêchent les conversions à la volée\n",
    "# ce qui marchait en numpy ne marche plus en torch\n",
    "\n",
    "print(a@[[1], [1], [1]])    # ERREUR de type (même résultat avec n'importe quelle opération)\n",
    "print(a*2)                  # OK pour un scalaire\n",
    "print(a*[2.,2.,2.])         # ERREUR de type"
   ]
  },
  {
   "cell_type": "code",
   "execution_count": 8,
   "metadata": {},
   "outputs": [
    {
     "name": "stdout",
     "output_type": "stream",
     "text": [
      "a tensor([[0.9564, 1.0154, 1.0468],\n",
      "        [1.0945, 1.0050, 0.9833]])\n",
      "a+a tensor([[1.9128, 2.0309, 2.0935],\n",
      "        [2.1891, 2.0100, 1.9666]])\n",
      "a*a tensor([[0.9147, 1.0311, 1.0957],\n",
      "        [1.1980, 1.0100, 0.9669]])\n",
      "a**2 tensor([[0.9147, 1.0311, 1.0957],\n",
      "        [1.1980, 1.0100, 0.9669]])\n"
     ]
    }
   ],
   "source": [
    "\n",
    "## somme/produit/puissance termes a termes\n",
    "print(\"a\",a)\n",
    "print(\"a+a\",a+a)\n",
    "print(\"a*a\",a*a)\n",
    "print(\"a**2\",a**2)\n"
   ]
  },
  {
   "cell_type": "markdown",
   "metadata": {},
   "source": [
    "Avant d'exécuter la boite suivante, prédire les dimensions des résultats"
   ]
  },
  {
   "cell_type": "code",
   "execution_count": 9,
   "metadata": {},
   "outputs": [
    {
     "name": "stdout",
     "output_type": "stream",
     "text": [
      "soustraction (v1):  tensor([[1., 1., 1., 1., 1.],\n",
      "        [1., 1., 1., 1., 1.],\n",
      "        [1., 1., 1., 1., 1.],\n",
      "        [1., 1., 1., 1., 1.],\n",
      "        [1., 1., 1., 1., 1.]])\n",
      "soustraction (v2):  tensor([[1., 1., 1., 1., 1.]])\n",
      "Somme v1 tensor(25.)\n",
      "Somme v2 tensor(5.)\n"
     ]
    }
   ],
   "source": [
    "\n",
    "## attention ! comme sous numpy, il peut y avoir des pièges ! \n",
    "## Vérifier toujours les dimensions !!\n",
    "a = torch.ones(5,1)*2\n",
    "b = torch.ones(5)\n",
    "\n",
    "## la première opération fait un broadcast et le résultat est tenseur à 2 dimensiosn,\n",
    "## le résultat de la deuxième opération est bien un vecteur\n",
    "print('soustraction (v1): ',a-b)\n",
    "print('soustraction (v2): ',a.t()-b)\n",
    "# cet exemple est critique... Voici pourquoi:\n",
    "print('Somme v1', (a-b).sum())\n",
    "print('Somme v2', (a.t()-b).sum())\n",
    "\n",
    "# ATTENTION dans la fonction cout qui suit !!!"
   ]
  },
  {
   "cell_type": "code",
   "execution_count": 10,
   "metadata": {},
   "outputs": [
    {
     "name": "stdout",
     "output_type": "stream",
     "text": [
      "tensor([[-0.3997,  0.0980,  0.4807,  1.1317],\n",
      "        [-0.4236, -0.3451, -1.7769,  1.2873],\n",
      "        [ 0.8219, -0.6601, -0.4483,  1.0149]])\n",
      "tensor([[-0.3997,  0.0980,  0.4807,  1.1317, -0.4236, -0.3451],\n",
      "        [-1.7769,  1.2873,  0.8219, -0.6601, -0.4483,  1.0149]])\n",
      "tensor([[ 1.3107],\n",
      "        [-1.2582],\n",
      "        [ 0.7283]])\n",
      "tensor([ 1.3107, -1.2582,  0.7283])\n",
      "tensor([[ True,  True,  True],\n",
      "        [False, False, False],\n",
      "        [False,  True, False]])\n",
      "tensor([ True, False, False])\n"
     ]
    }
   ],
   "source": [
    "\n",
    "## changer les dimensions du tenseur (la taille totale doit être inchangée) = np.reshape\n",
    "b = torch.randn(3,4) \n",
    "print(b)\n",
    "print(b.view(2,6)) # view  = reshape\n",
    "\n",
    "# on utilise souvent view pour passer de matrice à vecteur\n",
    "e=torch.tensor([[1],[1],[1],[1]], dtype=torch.float)\n",
    "d = b@e\n",
    "print(d)\n",
    "# conversion en vecteur\n",
    "print(d.view(-1)) # view (-1) => jocker = c'est lui trouve la bonne dimension\n",
    "\n",
    "# usage typique\n",
    "y = torch.tensor([1,-1,1], dtype=torch.float)\n",
    "print(d > y)            # résultat catastrophique (dispatch)\n",
    "print(d.view(-1) > y)   # résultat attendu"
   ]
  },
  {
   "cell_type": "code",
   "execution_count": 11,
   "metadata": {},
   "outputs": [
    {
     "name": "stdout",
     "output_type": "stream",
     "text": [
      "torch.Size([4, 1]) tensor([[1.],\n",
      "        [1.],\n",
      "        [1.],\n",
      "        [1.]])\n",
      "torch.Size([4]) tensor([1., 1., 1., 1.])\n",
      "torch.Size([1, 4]) tensor([[1., 1., 1., 1.]])\n",
      "torch.Size([4, 1]) tensor([[1.],\n",
      "        [1.],\n",
      "        [1.],\n",
      "        [1.]])\n",
      "tensor([[1.],\n",
      "        [1.],\n",
      "        [1.],\n",
      "        [1.]])\n"
     ]
    }
   ],
   "source": [
    "# jeux de dimension\n",
    "\n",
    "e=torch.tensor([[1],[1],[1],[1]], dtype=torch.float)\n",
    "print(e.size(), e)\n",
    "\n",
    "# suppression d'une dimension 'vide'\n",
    "e2 = e.squeeze()\n",
    "print(e2.size(), e2)\n",
    "\n",
    "# ajout d'une dimension (le vecteur e2 devient le premier élément d'une dimension)\n",
    "e3 = e2.unsqueeze(0) # dimension ajoutée\n",
    "print(e3.size(), e3)\n",
    "\n",
    "# retour à e à partir de e2: => Il faut ajouter une seconde dimension\n",
    "e4 = e2.unsqueeze(1) # dimension ajoutée\n",
    "print(e4.size(), e4)\n",
    "\n",
    "# note: dans ce cas, on pouvait aussi jouer avec view\n",
    "print(e2.view(-1,1))\n"
   ]
  },
  {
   "cell_type": "markdown",
   "metadata": {},
   "source": [
    "# B. Quelques exercices rapides\n",
    "\n",
    "### Mise en forme\n",
    "\n",
    "**Construire le tenseur:**\n",
    "$$\\begin{pmatrix}1 & 2 & 3\\\\ 4 & 5 & 6 \\end{pmatrix} $$\n",
    "* construire d'abord la liste\n",
    "* en faire un tenseur d'entier\n",
    "* le remettre à la bonne dimension & l'afficher pour obtenir un l'affichage suivant:\n",
    "```\n",
    "tensor([[1, 2, 3],\n",
    "        [4, 5, 6]])\n",
    "```\n",
    "* faire en sorte que cette matrice soit le premier élément d'une nouvelle dimension (`unsqueeze`):\n",
    "```\n",
    "tensor([[[1, 2, 3],\n",
    "         [4, 5, 6]]])\n",
    "```"
   ]
  },
  {
   "cell_type": "code",
   "execution_count": 16,
   "metadata": {},
   "outputs": [
    {
     "name": "stdout",
     "output_type": "stream",
     "text": [
      "tensor([[1, 2, 3],\n",
      "        [4, 5, 6]])\n",
      "tensor([[0.3106, 0.2928, 0.3753, 0.6208, 0.8573, 0.8179],\n",
      "        [0.9791, 0.5373, 0.6221, 0.4433, 0.2701, 0.1022],\n",
      "        [0.0210, 0.0404, 0.1458, 0.3672, 0.2368, 0.8169],\n",
      "        [0.9261, 0.5290, 0.5319, 0.5156, 0.7928, 0.4078],\n",
      "        [0.3499, 0.3719, 0.4190, 0.6753, 0.0117, 0.8768],\n",
      "        [0.0803, 0.5616, 0.6198, 0.0710, 0.1961, 0.7236]])\n"
     ]
    },
    {
     "ename": "TypeError",
     "evalue": "where() received an invalid combination of arguments - got (Tensor, int), but expected one of:\n * (Tensor condition)\n * (Tensor condition, Tensor input, Tensor other, *, Tensor out)\n * (Tensor condition, Number self, Tensor other)\n * (Tensor condition, Tensor input, Number other)\n * (Tensor condition, Number self, Number other)\n",
     "output_type": "error",
     "traceback": [
      "\u001b[31m---------------------------------------------------------------------------\u001b[39m",
      "\u001b[31mTypeError\u001b[39m                                 Traceback (most recent call last)",
      "\u001b[36mCell\u001b[39m\u001b[36m \u001b[39m\u001b[32mIn[16]\u001b[39m\u001b[32m, line 11\u001b[39m\n\u001b[32m      9\u001b[39m alea = torch.rand([\u001b[32m6\u001b[39m,\u001b[32m6\u001b[39m])\n\u001b[32m     10\u001b[39m \u001b[38;5;28mprint\u001b[39m(alea)\n\u001b[32m---> \u001b[39m\u001b[32m11\u001b[39m alea2 = \u001b[43mtorch\u001b[49m\u001b[43m.\u001b[49m\u001b[43mwhere\u001b[49m\u001b[43m(\u001b[49m\u001b[43malea\u001b[49m\u001b[43m>\u001b[49m\u001b[32;43m3\u001b[39;49m\u001b[43m,\u001b[49m\u001b[43m \u001b[49m\u001b[32;43m3\u001b[39;49m\u001b[43m)\u001b[49m\n\u001b[32m     12\u001b[39m \u001b[38;5;28mprint\u001b[39m(alea2)\n",
      "\u001b[31mTypeError\u001b[39m: where() received an invalid combination of arguments - got (Tensor, int), but expected one of:\n * (Tensor condition)\n * (Tensor condition, Tensor input, Tensor other, *, Tensor out)\n * (Tensor condition, Number self, Tensor other)\n * (Tensor condition, Tensor input, Number other)\n * (Tensor condition, Number self, Number other)\n"
     ]
    }
   ],
   "source": [
    "# partir d'une liste d'entier\n",
    "a = [i+1 for i in range(6)]\n",
    "\n",
    "#  TODO \n",
    "\n",
    "test = torch.tensor([[i+1 for i in range(3)],[ i+1 for i in range(3,6) ]])\n",
    "print(test)\n",
    "\n",
    "alea = torch.rand([6,6])\n",
    "print(alea)\n",
    "alea2 = torch.where(alea>3, 3)\n",
    "print(alea2)\n"
   ]
  },
  {
   "cell_type": "markdown",
   "metadata": {},
   "source": [
    "\n",
    "* générer un tenseur aléatoire de dimension 6x6\n",
    "* mettre tous les éléments $> 0.75$ à 3, tous les éléments $>0.5$ à 1, tous les autres à 0 (exemple ci-dessous)\n",
    "```\n",
    "tensor([[0.2904, 0.8363, 0.1369, 0.6678, 0.7031, 0.8621],\n",
    "        [0.2346, 0.0459, 0.9227, 0.4143, 0.1521, 0.9640],\n",
    "        [0.1871, 0.2266, 0.8589, 0.4375, 0.6851, 0.2822],\n",
    "        [0.6622, 0.1185, 0.6011, 0.8171, 0.7270, 0.1480],\n",
    "        [0.7245, 0.5880, 0.2003, 0.1000, 0.4129, 0.1631],\n",
    "        [0.7844, 0.2308, 0.6906, 0.8632, 0.7242, 0.8772]])\n",
    "tensor([[0., 3., 0., 1., 1., 3.],\n",
    "        [0., 0., 3., 0., 0., 3.],\n",
    "        [0., 0., 3., 0., 1., 0.],\n",
    "        [1., 0., 1., 3., 1., 0.],\n",
    "        [1., 1., 0., 0., 0., 0.],\n",
    "        [3., 0., 1., 3., 1., 3.]])\n",
    "```\n",
    "* compter les 0, 1 et 3 (trouver la commande directe)\n",
    "```\n",
    "tensor(23) tensor(6) tensor(7)\n",
    "```\n",
    "* Construire la matrice b suivante en utilisant obligatoirement un produit matriciel:\n",
    "```\n",
    "tensor([[1., 2., 3., 4., 5., 6.],\n",
    "        [1., 2., 3., 4., 5., 6.],\n",
    "        [1., 2., 3., 4., 5., 6.],\n",
    "        [1., 2., 3., 4., 5., 6.],\n",
    "        [1., 2., 3., 4., 5., 6.],\n",
    "        [1., 2., 3., 4., 5., 6.]])\n",
    "```\n",
    "* calculer la somme des carrés des écarts entre les deux matrices précedentes\n",
    "```\n",
    "tensor(366.)\n",
    "```\n",
    "* afficher les matrices précédentes avec imshow (ce qui oblige à sortir des tenseurs pour utiliser matplotlib... Après l'avoir importé)\n",
    "\n",
    "<img src=\"media/matrices2.png\">\n"
   ]
  },
  {
   "cell_type": "code",
   "execution_count": 17,
   "metadata": {},
   "outputs": [
    {
     "name": "stdout",
     "output_type": "stream",
     "text": [
      "tensor([[0.2854, 0.3762, 0.9323, 0.6585, 0.1016, 0.0856],\n",
      "        [0.1643, 0.4814, 0.1223, 0.2660, 0.5462, 0.2524],\n",
      "        [0.6773, 0.7328, 0.5084, 0.0405, 0.9123, 0.1207],\n",
      "        [0.4664, 0.9712, 0.0369, 0.3995, 0.9186, 0.1889],\n",
      "        [0.0883, 0.4889, 0.8861, 0.3371, 0.8226, 0.7986],\n",
      "        [0.1157, 0.7797, 0.7803, 0.0963, 0.6247, 0.5474]])\n",
      "tensor([[0., 0., 3., 1., 0., 0.],\n",
      "        [0., 0., 0., 0., 1., 0.],\n",
      "        [1., 1., 1., 0., 3., 0.],\n",
      "        [0., 3., 0., 0., 3., 0.],\n",
      "        [0., 0., 3., 0., 3., 3.],\n",
      "        [0., 3., 3., 0., 1., 1.]])\n",
      "tensor(20) tensor(7) tensor(9)\n",
      "tensor([[1., 2., 3., 4., 5., 6.],\n",
      "        [1., 2., 3., 4., 5., 6.],\n",
      "        [1., 2., 3., 4., 5., 6.],\n",
      "        [1., 2., 3., 4., 5., 6.],\n",
      "        [1., 2., 3., 4., 5., 6.],\n",
      "        [1., 2., 3., 4., 5., 6.]])\n",
      "tensor(378.)\n"
     ]
    }
   ],
   "source": [
    "a = torch.rand(6,6)\n",
    "print(a)\n",
    "a[a<=0.5] = 0\n",
    "a[a>0.75] = 3\n",
    "a[(a>0.5) & (a<1)] = 1\n",
    "print(a)\n",
    "print((a==0).sum(), (a==1).sum(), (a==3).sum())\n",
    "\n",
    "b = torch.ones(6,1)@torch.tensor([float(i+1) for i in range(6)]).view(1,6)\n",
    "print(b)\n",
    "\n",
    "print(((a-b)**2).sum())\n",
    "\n"
   ]
  },
  {
   "cell_type": "code",
   "execution_count": 18,
   "metadata": {},
   "outputs": [
    {
     "data": {
      "image/png": "[encoded data removed]",
      "text/plain": [
       "<Figure size 640x480 with 2 Axes>"
      ]
     },
     "metadata": {},
     "output_type": "display_data"
    }
   ],
   "source": [
    "import matplotlib.pyplot as plt\n",
    "\n",
    "plt.figure()\n",
    "plt.subplot(1,2,1)\n",
    "plt.imshow(a.tolist())\n",
    "plt.subplot(1,2,2)\n",
    "plt.imshow(b.tolist())\n",
    "\n",
    "plt.savefig(\"media/matrices2.png\", bbox_inches='tight')\n"
   ]
  },
  {
   "cell_type": "markdown",
   "metadata": {},
   "source": [
    "# Construction du sujet à partir de la correction"
   ]
  },
  {
   "cell_type": "code",
   "execution_count": 1,
   "metadata": {},
   "outputs": [],
   "source": [
    "###  TODO )\",\" TODO \",\\\n",
    "    txt, flags=re.DOTALL))\n",
    "f2.close()\n",
    "\n",
    "### </CORRECTION> ###"
   ]
  },
  {
   "cell_type": "code",
   "execution_count": null,
   "metadata": {},
   "outputs": [],
   "source": []
  }
 ],
 "metadata": {
  "accelerator": "GPU",
  "colab": {
   "collapsed_sections": [],
   "name": "DeepLearning fc TP1 2020-2021-correction.ipynb",
   "provenance": []
  },
  "kernelspec": {
   "display_name": "torch2025",
   "language": "python",
   "name": "python3"
  },
  "language_info": {
   "codemirror_mode": {
    "name": "ipython",
    "version": 3
   },
   "file_extension": ".py",
   "mimetype": "text/x-python",
   "name": "python",
   "nbconvert_exporter": "python",
   "pygments_lexer": "ipython3",
   "version": "3.12.12"
  }
 },
 "nbformat": 4,
 "nbformat_minor": 4
}
